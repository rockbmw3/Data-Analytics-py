{
  "nbformat": 4,
  "nbformat_minor": 0,
  "metadata": {
    "colab": {
      "provenance": [],
      "authorship_tag": "ABX9TyO3SKyFrn9X3DL/wpe6d2Nx",
      "include_colab_link": true
    },
    "kernelspec": {
      "name": "python3",
      "display_name": "Python 3"
    },
    "language_info": {
      "name": "python"
    }
  },
  "cells": [
    {
      "cell_type": "markdown",
      "metadata": {
        "id": "view-in-github",
        "colab_type": "text"
      },
      "source": [
        "<a href=\"https://colab.research.google.com/github/rockbmw3/Data-Analytics-py/blob/main/icp_2.ipynb\" target=\"_parent\"><img src=\"https://colab.research.google.com/assets/colab-badge.svg\" alt=\"Open In Colab\"/></a>"
      ]
    },
    {
      "cell_type": "code",
      "execution_count": 1,
      "metadata": {
        "colab": {
          "base_uri": "https://localhost:8080/"
        },
        "id": "TJlmld0iIWKi",
        "outputId": "ea7414ab-52f7-46b0-c8a7-65d174b1b38f"
      },
      "outputs": [
        {
          "output_type": "stream",
          "name": "stdout",
          "text": [
            "a counts: (2, 1)\n",
            "b counts: (2, 1)\n"
          ]
        }
      ],
      "source": [
        "class Counter:\n",
        "    count = 0  # Class variable\n",
        "\n",
        "    def __init__(self):\n",
        "        self._count = 0  # Instance variable\n",
        "\n",
        "    def increment(self):\n",
        "        Counter.count += 1\n",
        "        self._count += 1\n",
        "\n",
        "    def get_counts(self):\n",
        "        return (Counter.count, self._count)\n",
        "\n",
        "\n",
        "# Example usage:\n",
        "a = Counter()\n",
        "b = Counter()\n",
        "\n",
        "a.increment()\n",
        "b.increment()\n",
        "\n",
        "print(\"a counts:\", a.get_counts())\n",
        "print(\"b counts:\", b.get_counts())\n"
      ]
    }
  ]
}