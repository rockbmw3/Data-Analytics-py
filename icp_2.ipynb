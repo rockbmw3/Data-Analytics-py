{
  "nbformat": 4,
  "nbformat_minor": 0,
  "metadata": {
    "colab": {
      "provenance": [],
      "authorship_tag": "ABX9TyMDlnzuLJxkmKuERkq2jLGT",
      "include_colab_link": true
    },
    "kernelspec": {
      "name": "python3",
      "display_name": "Python 3"
    },
    "language_info": {
      "name": "python"
    }
  },
  "cells": [
    {
      "cell_type": "markdown",
      "metadata": {
        "id": "view-in-github",
        "colab_type": "text"
      },
      "source": [
        "<a href=\"https://colab.research.google.com/github/rockbmw3/Data-Analytics-py/blob/main/icp_2.ipynb\" target=\"_parent\"><img src=\"https://colab.research.google.com/assets/colab-badge.svg\" alt=\"Open In Colab\"/></a>"
      ]
    },
    {
      "cell_type": "code",
      "execution_count": 4,
      "metadata": {
        "colab": {
          "base_uri": "https://localhost:8080/"
        },
        "id": "TJlmld0iIWKi",
        "outputId": "3bd44aa4-57a2-4273-eaec-d06539e7b0ae"
      },
      "outputs": [
        {
          "output_type": "stream",
          "name": "stdout",
          "text": [
            "a counts: (2, 1)\n",
            "b counts: (2, 1)\n"
          ]
        }
      ],
      "source": [
        "class Counter:\n",
        "    count = 0  # Class variable\n",
        "\n",
        "    def __init__(self):\n",
        "        self._count = 0  # Instance variable\n",
        "\n",
        "    def increment(self):\n",
        "        Counter.count += 1\n",
        "        self._count += 1\n",
        "\n",
        "    def get_counts(self):\n",
        "        return (Counter.count, self._count)\n",
        "\n",
        "\n",
        "# Example usage:\n",
        "a = Counter()\n",
        "b = Counter()\n",
        "\n",
        "a.increment()\n",
        "b.increment()\n",
        "\n",
        "print(\"a counts:\", a.get_counts())\n",
        "print(\"b counts:\", b.get_counts())\n"
      ]
    },
    {
      "cell_type": "code",
      "source": [
        "def sum_all(*args):  # Note the asterisk (*)\n",
        "    return sum(args)\n",
        "\n",
        "print(\"Sum of 1, 2, 3 is:\", sum_all(1, 2, 3))\n",
        "print(\"Sum of 4, 5, 6, 7 is:\", sum_all(4, 5, 6, 7))"
      ],
      "metadata": {
        "id": "EGTkhXCBMt3o",
        "outputId": "5803140e-03bf-415d-9ba3-9ed12943e5c1",
        "colab": {
          "base_uri": "https://localhost:8080/"
        }
      },
      "execution_count": 1,
      "outputs": [
        {
          "output_type": "stream",
          "name": "stdout",
          "text": [
            "Sum of 1, 2, 3 is: 6\n",
            "Sum of 4, 5, 6, 7 is: 22\n"
          ]
        }
      ]
    },
    {
      "cell_type": "code",
      "source": [
        "def first_word(word_list):\n",
        "    # Step 1: Sort the list alphabetically\n",
        "    word_list.sort()\n",
        "\n",
        "    # Step 2: Return the first element\n",
        "    return word_list[0]\n",
        "\n",
        "\n",
        "# Get user input as a comma-separated list\n",
        "user_input = input(\"Enter names separated by commas: \")\n",
        "\n",
        "# Convert input string to list of words, stripping any extra spaces\n",
        "students = [name.strip() for name in user_input.split(\",\")]\n",
        "\n",
        "\n",
        "print(\"Alphabetically first name is:\", first_word(students))"
      ],
      "metadata": {
        "colab": {
          "base_uri": "https://localhost:8080/"
        },
        "id": "54UJj-JKU6aF",
        "outputId": "70fd6951-6550-4f65-bf9d-5e0e2b0592fa"
      },
      "execution_count": 5,
      "outputs": [
        {
          "output_type": "stream",
          "name": "stdout",
          "text": [
            "Enter names separated by commas: hemanth,kumar,ram,shree\n",
            "Alphabetically first name is: hemanth\n"
          ]
        }
      ]
    },
    {
      "cell_type": "code",
      "source": [
        "class Employee:\n",
        "    # Class variable to count the number of employees\n",
        "    employee_count = 0\n",
        "\n",
        "    def __init__(self, name, family, salary, department):\n",
        "        self.name = name\n",
        "        self.family = family\n",
        "        self.salary = salary\n",
        "        self.department = department\n",
        "\n",
        "        # Increment the count when a new Employee is created\n",
        "        Employee.employee_count += 1\n",
        "\n",
        "    def average_salary(self, employees):\n",
        "        total_salary = sum(emp.salary for emp in employees)\n",
        "        return total_salary / len(employees)\n",
        "\n",
        "\n",
        "# FulltimeEmployee inherits from Employee\n",
        "class FulltimeEmployee(Employee):\n",
        "    pass\n",
        "\n",
        "\n",
        "# Creating instances\n",
        "emp1 = Employee(\"John\", \"Doe\", 50000, \"Engineering\")\n",
        "emp2 = FulltimeEmployee(\"Alice\", \"Smith\", 60000, \"HR\")\n",
        "emp3 = FulltimeEmployee(\"David\", \"Williams\", 70000, \"Finance\")\n",
        "\n",
        "# List of employees\n",
        "employees = [emp1, emp2, emp3]\n",
        "\n",
        "# Calling functions\n",
        "print(\"Total Employees:\", Employee.employee_count)\n",
        "print(\"Average Salary:\", emp1.average_salary(employees))\n"
      ],
      "metadata": {
        "colab": {
          "base_uri": "https://localhost:8080/"
        },
        "id": "PdKUQRGMYWND",
        "outputId": "fe7f86bd-7f93-4fd2-8550-89a1d88c7111"
      },
      "execution_count": 3,
      "outputs": [
        {
          "output_type": "stream",
          "name": "stdout",
          "text": [
            "Total Employees: 3\n",
            "Average Salary: 60000.0\n"
          ]
        }
      ]
    }
  ]
}