{
  "nbformat": 4,
  "nbformat_minor": 0,
  "metadata": {
    "colab": {
      "provenance": [],
      "authorship_tag": "ABX9TyMocJSRMIyUV71Q/R4SjuBm",
      "include_colab_link": true
    },
    "kernelspec": {
      "name": "python3",
      "display_name": "Python 3"
    },
    "language_info": {
      "name": "python"
    }
  },
  "cells": [
    {
      "cell_type": "markdown",
      "metadata": {
        "id": "view-in-github",
        "colab_type": "text"
      },
      "source": [
        "<a href=\"https://colab.research.google.com/github/rockbmw3/Data-Analytics-py/blob/main/icp3_summer.ipynb\" target=\"_parent\"><img src=\"https://colab.research.google.com/assets/colab-badge.svg\" alt=\"Open In Colab\"/></a>"
      ]
    },
    {
      "cell_type": "code",
      "execution_count": 6,
      "metadata": {
        "colab": {
          "base_uri": "https://localhost:8080/"
        },
        "id": "pFIIOeHC7LTD",
        "outputId": "f92103ea-8deb-4a32-e875-510f9b6fb315"
      },
      "outputs": [
        {
          "output_type": "stream",
          "name": "stdout",
          "text": [
            "Original array:\n",
            " [[ 9  6  1  3  4]\n",
            " [18  1  2  2  3]\n",
            " [ 9  1 18 18  3]]\n",
            "Shape: (3, 5)\n",
            "Array after replacing max in each row with 0:\n",
            " [[ 0  6  1  3  4]\n",
            " [ 0  1  2  2  3]\n",
            " [ 9  1  0 18  3]]\n"
          ]
        }
      ],
      "source": [
        "import numpy as np\n",
        "\n",
        "# Create random vector of size 15 with integers 1-20\n",
        "arr = np.random.randint(1, 21, size=15)\n",
        "\n",
        "# Reshape to 3 rows and 5 columns\n",
        "arr = arr.reshape(3, 5)\n",
        "\n",
        "print(\"Original array:\\n\", arr)\n",
        "print(\"Shape:\", arr.shape)\n",
        "\n",
        "# Replace max element in each row with 0\n",
        "for i in range(arr.shape[0]):\n",
        "    max_index = np.argmax(arr[i])\n",
        "    arr[i, max_index] = 0\n",
        "\n",
        "print(\"Array after replacing max in each row with 0:\\n\", arr)\n"
      ]
    },
    {
      "cell_type": "code",
      "source": [
        "arr2 = np.arange(12, dtype=np.int32).reshape(4, 3)  # 12 elements, 4x3 shape\n",
        "\n",
        "print(\"Array:\\n\", arr2)\n",
        "print(\"Shape:\", arr2.shape)\n",
        "print(\"Type:\", type(arr2))\n",
        "print(\"Data type:\", arr2.dtype)\n"
      ],
      "metadata": {
        "colab": {
          "base_uri": "https://localhost:8080/"
        },
        "id": "nRItXqlS7TWc",
        "outputId": "1fb9d922-bcb5-49df-bc14-b3ac7313a6e9"
      },
      "execution_count": 2,
      "outputs": [
        {
          "output_type": "stream",
          "name": "stdout",
          "text": [
            "Array:\n",
            " [[ 0  1  2]\n",
            " [ 3  4  5]\n",
            " [ 6  7  8]\n",
            " [ 9 10 11]]\n",
            "Shape: (4, 3)\n",
            "Type: <class 'numpy.ndarray'>\n",
            "Data type: int32\n"
          ]
        }
      ]
    },
    {
      "cell_type": "code",
      "source": [
        "matrix = np.array([[3, -2],\n",
        "                   [1,  0]])\n",
        "\n",
        "eigvals, eigvecs = np.linalg.eig(matrix)\n",
        "\n",
        "print(\"Eigenvalues:\\n\", eigvals)\n",
        "print(\"Right eigenvectors:\\n\", eigvecs)\n"
      ],
      "metadata": {
        "colab": {
          "base_uri": "https://localhost:8080/"
        },
        "id": "08lcvUhC7vcF",
        "outputId": "448d8249-1009-4292-fa2d-d3e229100fc4"
      },
      "execution_count": 3,
      "outputs": [
        {
          "output_type": "stream",
          "name": "stdout",
          "text": [
            "Eigenvalues:\n",
            " [2. 1.]\n",
            "Right eigenvectors:\n",
            " [[0.89442719 0.70710678]\n",
            " [0.4472136  0.70710678]]\n"
          ]
        }
      ]
    },
    {
      "cell_type": "code",
      "source": [
        "arr3 = np.array([[0, 1, 2],\n",
        "                 [3, 4, 5]])\n",
        "\n",
        "diag_sum = np.trace(arr3)  # sums main diagonal elements\n",
        "\n",
        "print(\"Sum of diagonal elements:\", diag_sum)\n"
      ],
      "metadata": {
        "colab": {
          "base_uri": "https://localhost:8080/"
        },
        "id": "CVMT_Fv97yeV",
        "outputId": "c01bebf4-6559-4318-fdaa-d597077e7c95"
      },
      "execution_count": 4,
      "outputs": [
        {
          "output_type": "stream",
          "name": "stdout",
          "text": [
            "Sum of diagonal elements: 4\n"
          ]
        }
      ]
    },
    {
      "cell_type": "code",
      "source": [
        "arr4 = np.array([[1, 2],\n",
        "                 [3, 4],\n",
        "                 [5, 6]])\n",
        "\n",
        "print(\"Original shape (3x2):\\n\", arr4)\n",
        "\n",
        "reshaped_arr = arr4.reshape(2, 3)\n",
        "\n",
        "print(\"Reshaped array (2x3):\\n\", reshaped_arr)\n"
      ],
      "metadata": {
        "colab": {
          "base_uri": "https://localhost:8080/"
        },
        "id": "Eczih-Uf71Np",
        "outputId": "33949f2e-7c7a-48ff-9c52-c6e8d8879e2e"
      },
      "execution_count": 5,
      "outputs": [
        {
          "output_type": "stream",
          "name": "stdout",
          "text": [
            "Original shape (3x2):\n",
            " [[1 2]\n",
            " [3 4]\n",
            " [5 6]]\n",
            "Reshaped array (2x3):\n",
            " [[1 2 3]\n",
            " [4 5 6]]\n"
          ]
        }
      ]
    }
  ]
}