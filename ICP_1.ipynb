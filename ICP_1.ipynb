{
  "nbformat": 4,
  "nbformat_minor": 0,
  "metadata": {
    "colab": {
      "provenance": [],
      "authorship_tag": "ABX9TyO34jODS/7MRvngYxU5zw+c",
      "include_colab_link": true
    },
    "kernelspec": {
      "name": "python3",
      "display_name": "Python 3"
    },
    "language_info": {
      "name": "python"
    }
  },
  "cells": [
    {
      "cell_type": "markdown",
      "metadata": {
        "id": "view-in-github",
        "colab_type": "text"
      },
      "source": [
        "<a href=\"https://colab.research.google.com/github/rockbmw3/Data-Analytics-py/blob/main/ICP_1.ipynb\" target=\"_parent\"><img src=\"https://colab.research.google.com/assets/colab-badge.svg\" alt=\"Open In Colab\"/></a>"
      ]
    },
    {
      "cell_type": "code",
      "execution_count": 4,
      "metadata": {
        "colab": {
          "base_uri": "https://localhost:8080/"
        },
        "id": "2hmnTqn0nbiU",
        "outputId": "e21cec05-f18c-4e69-b0f4-25cc4912eb8e"
      },
      "outputs": [
        {
          "output_type": "stream",
          "name": "stdout",
          "text": [
            "Enter a string: hellohemanth\n",
            "Resultant string: htnameholh\n"
          ]
        }
      ],
      "source": [
        "#part a\n",
        "#reversing a string and deleting two random characters.\n",
        "input_str = input(\"Enter a string: \")\n",
        "\n",
        "char_list = list(input_str)\n",
        "\n",
        "\n",
        "if len(char_list) >= 4:\n",
        "    del char_list[1]\n",
        "    del char_list[2]\n",
        "else:\n",
        "    print(\"String too short to delete 2 characters.\")\n",
        "\n",
        "\n",
        "char_list.reverse()\n",
        "\n",
        "result_str = ''.join(char_list)\n",
        "print(\"Resultant string:\", result_str)\n"
      ]
    },
    {
      "cell_type": "code",
      "source": [
        "# part b\n",
        "# Take two numbers from the user\n",
        "num1 = float(input(\"Enter first number: \"))\n",
        "num2 = float(input(\"Enter second number: \"))\n",
        "\n",
        "# Perform arithmetic operations\n",
        "print(\"Addition:\", num1 + num2)\n",
        "print(\"Subtraction:\", num1 - num2)\n",
        "print(\"Multiplication:\", num1 * num2)\n",
        "\n",
        "if num2 != 0:\n",
        "    print(\"Division:\", num1 / num2)\n",
        "else:\n",
        "    print(\"Division: Cannot divide by zero\")\n"
      ],
      "metadata": {
        "colab": {
          "base_uri": "https://localhost:8080/"
        },
        "id": "FoUd2fgZwjii",
        "outputId": "795b33d5-59a9-4663-eaa3-be656610a1bd"
      },
      "execution_count": 5,
      "outputs": [
        {
          "output_type": "stream",
          "name": "stdout",
          "text": [
            "Enter first number: 3452\n",
            "Enter second number: 987\n",
            "Addition: 4439.0\n",
            "Subtraction: 2465.0\n",
            "Multiplication: 3407124.0\n",
            "Division: 3.497467071935157\n"
          ]
        }
      ]
    },
    {
      "cell_type": "code",
      "source": [
        "# Part 1: Replace \"python\" with \"pythons\"\n",
        "sentence = input(\"Enter a sentence: \")\n",
        "updated_sentence = sentence.replace(\"python\", \"pythons\")\n",
        "print(\"Updated sentence:\", updated_sentence)\n"
      ],
      "metadata": {
        "colab": {
          "base_uri": "https://localhost:8080/"
        },
        "id": "ycjqI6RQxL12",
        "outputId": "b1df522e-aaf2-495b-a72f-33f8df59bfef"
      },
      "execution_count": 6,
      "outputs": [
        {
          "output_type": "stream",
          "name": "stdout",
          "text": [
            "Enter a sentence: i am about to enter learning python\n",
            "Updated sentence: i am about to enter learning pythons\n"
          ]
        }
      ]
    },
    {
      "cell_type": "code",
      "source": [
        "# Part 2: Grade based on score\n",
        "score = float(input(\"Enter your class score: \"))\n",
        "\n",
        "if score >= 90 and score <= 100:\n",
        "    grade = \"A\"\n",
        "elif score >= 80:\n",
        "    grade = \"B\"\n",
        "elif score >= 70:\n",
        "    grade = \"C\"\n",
        "elif score >= 60:\n",
        "    grade = \"D\"\n",
        "elif score < 60 and score >= 0:\n",
        "    grade = \"F\"\n",
        "else:\n",
        "    grade = \"Invalid score\"\n",
        "\n",
        "print(\"Your grade is:\", grade)\n"
      ],
      "metadata": {
        "colab": {
          "base_uri": "https://localhost:8080/"
        },
        "id": "fMae2HCV0gpI",
        "outputId": "6eac4cfa-3d9b-4758-e0cd-28ac25ffbe2b"
      },
      "execution_count": 7,
      "outputs": [
        {
          "output_type": "stream",
          "name": "stdout",
          "text": [
            "Enter your class score: 82.4\n",
            "Your grade is: B\n"
          ]
        }
      ]
    },
    {
      "cell_type": "code",
      "source": [
        "# Given input list\n",
        "x = [23, 'Python', 23.98]\n",
        "\n",
        "# Print original list\n",
        "print(x)\n",
        "\n",
        "# Create a new list with types of each element\n",
        "types_list = [type(i) for i in x]\n",
        "\n",
        "# Print the list of types\n",
        "print(types_list)\n"
      ],
      "metadata": {
        "colab": {
          "base_uri": "https://localhost:8080/"
        },
        "id": "4ugbaoSD06pr",
        "outputId": "31743494-8b64-4e25-db9e-2c45b96259d8"
      },
      "execution_count": 10,
      "outputs": [
        {
          "output_type": "stream",
          "name": "stdout",
          "text": [
            "[23, 'Python', 23.98]\n",
            "[<class 'int'>, <class 'str'>, <class 'float'>]\n"
          ]
        }
      ]
    },
    {
      "cell_type": "code",
      "source": [
        "# Given Data\n",
        "IT_companies = {'Facebook', 'Google', 'Microsoft', 'Apple', 'IBM', 'Oracle', 'Amazon'}\n",
        "A = {19, 22, 24, 20, 25, 26}\n",
        "B = {19, 22, 20, 25, 26, 24, 28, 27}\n",
        "age = [22, 19, 24, 25, 26, 24, 25, 24]\n",
        "\n",
        "# 1. Length of IT_companies\n",
        "print(\"Length of IT_companies:\", len(IT_companies))\n",
        "\n",
        "# 2. Add 'Twitter'\n",
        "IT_companies.add('Twitter')\n",
        "print(\"After adding Twitter:\", IT_companies)\n",
        "\n",
        "# 3. Insert multiple companies\n",
        "IT_companies.update(['Tesla', 'Intel', 'Adobe'])\n",
        "print(\"After adding multiple companies:\", IT_companies)\n",
        "\n",
        "# 4. Remove one company\n",
        "IT_companies.remove('Oracle')\n",
        "print(\"After removing Oracle:\", IT_companies)\n",
        "\n",
        "# 5. Difference between remove and discard\n",
        "#    remove() raises error if element not found\n",
        "#    discard() does nothing if element not found\n",
        "print(\"remove vs discard difference:\")\n",
        "print(\"- remove() throws error if item not present\")\n",
        "print(\"- discard() does nothing even if item not found\")\n",
        "\n",
        "# 6. Join A and B\n",
        "print(\"Union of A and B:\", A.union(B))\n",
        "\n",
        "# 7. Intersection of A and B\n",
        "print(\"Intersection of A and B:\", A.intersection(B))\n",
        "\n",
        "# 8. Is A subset of B?\n",
        "print(\"Is A subset of B?\", A.issubset(B))\n",
        "\n",
        "# 9. Are A and B disjoint?\n",
        "print(\"Are A and B disjoint sets?\", A.isdisjoint(B))\n",
        "\n",
        "# 10. Join A with B and B with A\n",
        "print(\"A union B:\", A.union(B))\n",
        "print(\"B union A:\", B.union(A))\n",
        "\n",
        "# 11. Symmetric difference between A and B\n",
        "print(\"Symmetric difference (A ^ B):\", A.symmetric_difference(B))\n",
        "\n",
        "# 12. Delete the sets completely\n",
        "del IT_companies\n",
        "del A\n",
        "del B\n",
        "\n",
        "# 13. Convert age list to set and compare lengths\n",
        "age_set = set(age)\n",
        "print(\"Length of age list:\", len(age))\n",
        "print(\"Length of age set (unique ages):\", len(age_set))\n"
      ],
      "metadata": {
        "colab": {
          "base_uri": "https://localhost:8080/"
        },
        "id": "jQUz17jC6BoM",
        "outputId": "b95a16ed-eb18-4822-c67e-6b1572bdaa02"
      },
      "execution_count": 11,
      "outputs": [
        {
          "output_type": "stream",
          "name": "stdout",
          "text": [
            "Length of IT_companies: 7\n",
            "After adding Twitter: {'IBM', 'Apple', 'Facebook', 'Twitter', 'Google', 'Amazon', 'Oracle', 'Microsoft'}\n",
            "After adding multiple companies: {'Adobe', 'IBM', 'Tesla', 'Google', 'Amazon', 'Oracle', 'Microsoft', 'Intel', 'Apple', 'Facebook', 'Twitter'}\n",
            "After removing Oracle: {'Adobe', 'IBM', 'Tesla', 'Google', 'Amazon', 'Microsoft', 'Intel', 'Apple', 'Facebook', 'Twitter'}\n",
            "remove vs discard difference:\n",
            "- remove() throws error if item not present\n",
            "- discard() does nothing even if item not found\n",
            "Union of A and B: {19, 20, 22, 24, 25, 26, 27, 28}\n",
            "Intersection of A and B: {19, 20, 22, 24, 25, 26}\n",
            "Is A subset of B? True\n",
            "Are A and B disjoint sets? False\n",
            "A union B: {19, 20, 22, 24, 25, 26, 27, 28}\n",
            "B union A: {19, 20, 22, 24, 25, 26, 27, 28}\n",
            "Symmetric difference (A ^ B): {27, 28}\n",
            "Length of age list: 8\n",
            "Length of age set (unique ages): 5\n"
          ]
        }
      ]
    }
  ]
}